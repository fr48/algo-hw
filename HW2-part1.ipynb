{
 "cells": [
  {
   "cell_type": "code",
   "execution_count": 1,
   "metadata": {},
   "outputs": [],
   "source": [
    "import pandas as pd\n",
    "import matplotlib.pyplot as plt\n",
    "import seaborn as sns\n",
    "import numpy as np\n"
   ]
  },
  {
   "cell_type": "markdown",
   "metadata": {},
   "source": [
    "# Pandas Review"
   ]
  },
  {
   "cell_type": "markdown",
   "metadata": {},
   "source": [
    "This HW covers the concepts simple pandas concepts introduced in class using NBA Players Stats - 2014-2015 data\n",
    "To find out more about the data follow the link: https://www.kaggle.com/drgilermo/nba-players-stats-20142015/version/1"
   ]
  },
  {
   "cell_type": "markdown",
   "metadata": {},
   "source": [
    "## Load `players_stats.csv`"
   ]
  },
  {
   "cell_type": "code",
   "execution_count": 3,
   "metadata": {},
   "outputs": [],
   "source": [
    "players = pd.read_csv(\"players_stats.csv\")"
   ]
  },
  {
   "cell_type": "code",
   "execution_count": 4,
   "metadata": {},
   "outputs": [
    {
     "data": {
      "text/html": [
       "<div>\n",
       "<style scoped>\n",
       "    .dataframe tbody tr th:only-of-type {\n",
       "        vertical-align: middle;\n",
       "    }\n",
       "\n",
       "    .dataframe tbody tr th {\n",
       "        vertical-align: top;\n",
       "    }\n",
       "\n",
       "    .dataframe thead th {\n",
       "        text-align: right;\n",
       "    }\n",
       "</style>\n",
       "<table border=\"1\" class=\"dataframe\">\n",
       "  <thead>\n",
       "    <tr style=\"text-align: right;\">\n",
       "      <th></th>\n",
       "      <th>Name</th>\n",
       "      <th>Games Played</th>\n",
       "      <th>MIN</th>\n",
       "      <th>PTS</th>\n",
       "      <th>FGM</th>\n",
       "      <th>FGA</th>\n",
       "      <th>FG%</th>\n",
       "      <th>3PM</th>\n",
       "      <th>3PA</th>\n",
       "      <th>3P%</th>\n",
       "      <th>...</th>\n",
       "      <th>Age</th>\n",
       "      <th>Birth_Place</th>\n",
       "      <th>Birthdate</th>\n",
       "      <th>Collage</th>\n",
       "      <th>Experience</th>\n",
       "      <th>Height</th>\n",
       "      <th>Pos</th>\n",
       "      <th>Team</th>\n",
       "      <th>Weight</th>\n",
       "      <th>BMI</th>\n",
       "    </tr>\n",
       "  </thead>\n",
       "  <tbody>\n",
       "    <tr>\n",
       "      <th>0</th>\n",
       "      <td>AJ Price</td>\n",
       "      <td>26</td>\n",
       "      <td>324</td>\n",
       "      <td>133</td>\n",
       "      <td>51</td>\n",
       "      <td>137</td>\n",
       "      <td>37.2</td>\n",
       "      <td>15</td>\n",
       "      <td>57</td>\n",
       "      <td>26.3</td>\n",
       "      <td>...</td>\n",
       "      <td>29.0</td>\n",
       "      <td>us</td>\n",
       "      <td>October 7, 1986</td>\n",
       "      <td>University of Connecticut</td>\n",
       "      <td>5</td>\n",
       "      <td>185.0</td>\n",
       "      <td>PG</td>\n",
       "      <td>PHO</td>\n",
       "      <td>81.45</td>\n",
       "      <td>23.798393</td>\n",
       "    </tr>\n",
       "    <tr>\n",
       "      <th>1</th>\n",
       "      <td>Aaron Brooks</td>\n",
       "      <td>82</td>\n",
       "      <td>1885</td>\n",
       "      <td>954</td>\n",
       "      <td>344</td>\n",
       "      <td>817</td>\n",
       "      <td>42.1</td>\n",
       "      <td>121</td>\n",
       "      <td>313</td>\n",
       "      <td>38.7</td>\n",
       "      <td>...</td>\n",
       "      <td>30.0</td>\n",
       "      <td>us</td>\n",
       "      <td>January 14, 1985</td>\n",
       "      <td>University of Oregon</td>\n",
       "      <td>6</td>\n",
       "      <td>180.0</td>\n",
       "      <td>PG</td>\n",
       "      <td>CHI</td>\n",
       "      <td>72.45</td>\n",
       "      <td>22.361111</td>\n",
       "    </tr>\n",
       "    <tr>\n",
       "      <th>2</th>\n",
       "      <td>Aaron Gordon</td>\n",
       "      <td>47</td>\n",
       "      <td>797</td>\n",
       "      <td>243</td>\n",
       "      <td>93</td>\n",
       "      <td>208</td>\n",
       "      <td>44.7</td>\n",
       "      <td>13</td>\n",
       "      <td>48</td>\n",
       "      <td>27.1</td>\n",
       "      <td>...</td>\n",
       "      <td>20.0</td>\n",
       "      <td>us</td>\n",
       "      <td>September 16, 1995</td>\n",
       "      <td>University of Arizona</td>\n",
       "      <td>R</td>\n",
       "      <td>202.5</td>\n",
       "      <td>PF</td>\n",
       "      <td>ORL</td>\n",
       "      <td>99.00</td>\n",
       "      <td>24.142661</td>\n",
       "    </tr>\n",
       "    <tr>\n",
       "      <th>3</th>\n",
       "      <td>Adreian Payne</td>\n",
       "      <td>32</td>\n",
       "      <td>740</td>\n",
       "      <td>213</td>\n",
       "      <td>91</td>\n",
       "      <td>220</td>\n",
       "      <td>41.4</td>\n",
       "      <td>1</td>\n",
       "      <td>9</td>\n",
       "      <td>11.1</td>\n",
       "      <td>...</td>\n",
       "      <td>24.0</td>\n",
       "      <td>us</td>\n",
       "      <td>February 19, 1991</td>\n",
       "      <td>Michigan State University</td>\n",
       "      <td>R</td>\n",
       "      <td>205.0</td>\n",
       "      <td>PF</td>\n",
       "      <td>ATL</td>\n",
       "      <td>106.65</td>\n",
       "      <td>25.377751</td>\n",
       "    </tr>\n",
       "    <tr>\n",
       "      <th>4</th>\n",
       "      <td>Al Horford</td>\n",
       "      <td>76</td>\n",
       "      <td>2318</td>\n",
       "      <td>1156</td>\n",
       "      <td>519</td>\n",
       "      <td>965</td>\n",
       "      <td>53.8</td>\n",
       "      <td>11</td>\n",
       "      <td>36</td>\n",
       "      <td>30.6</td>\n",
       "      <td>...</td>\n",
       "      <td>29.0</td>\n",
       "      <td>do</td>\n",
       "      <td>June 3, 1986</td>\n",
       "      <td>University of Florida</td>\n",
       "      <td>7</td>\n",
       "      <td>205.0</td>\n",
       "      <td>C</td>\n",
       "      <td>ATL</td>\n",
       "      <td>110.25</td>\n",
       "      <td>26.234384</td>\n",
       "    </tr>\n",
       "  </tbody>\n",
       "</table>\n",
       "<p>5 rows × 34 columns</p>\n",
       "</div>"
      ],
      "text/plain": [
       "            Name  Games Played   MIN   PTS  FGM  FGA   FG%  3PM  3PA   3P%  \\\n",
       "0       AJ Price            26   324   133   51  137  37.2   15   57  26.3   \n",
       "1   Aaron Brooks            82  1885   954  344  817  42.1  121  313  38.7   \n",
       "2   Aaron Gordon            47   797   243   93  208  44.7   13   48  27.1   \n",
       "3  Adreian Payne            32   740   213   91  220  41.4    1    9  11.1   \n",
       "4     Al Horford            76  2318  1156  519  965  53.8   11   36  30.6   \n",
       "\n",
       "   ...   Age  Birth_Place           Birthdate                    Collage  \\\n",
       "0  ...  29.0           us     October 7, 1986  University of Connecticut   \n",
       "1  ...  30.0           us    January 14, 1985       University of Oregon   \n",
       "2  ...  20.0           us  September 16, 1995      University of Arizona   \n",
       "3  ...  24.0           us   February 19, 1991  Michigan State University   \n",
       "4  ...  29.0           do        June 3, 1986      University of Florida   \n",
       "\n",
       "   Experience  Height  Pos  Team  Weight        BMI  \n",
       "0           5   185.0   PG   PHO   81.45  23.798393  \n",
       "1           6   180.0   PG   CHI   72.45  22.361111  \n",
       "2           R   202.5   PF   ORL   99.00  24.142661  \n",
       "3           R   205.0   PF   ATL  106.65  25.377751  \n",
       "4           7   205.0    C   ATL  110.25  26.234384  \n",
       "\n",
       "[5 rows x 34 columns]"
      ]
     },
     "execution_count": 4,
     "metadata": {},
     "output_type": "execute_result"
    }
   ],
   "source": [
    "players.head(5)"
   ]
  },
  {
   "cell_type": "markdown",
   "metadata": {},
   "source": [
    "## Explore the data in 3 different ways (using 3 different methods)\n",
    "Hint: you want to use methods that show the size and shape of your dataframe"
   ]
  },
  {
   "cell_type": "code",
   "execution_count": 11,
   "metadata": {},
   "outputs": [
    {
     "name": "stdout",
     "output_type": "stream",
     "text": [
      "<class 'pandas.core.frame.DataFrame'>\n",
      "RangeIndex: 490 entries, 0 to 489\n",
      "Data columns (total 34 columns):\n",
      "Name            490 non-null object\n",
      "Games Played    490 non-null int64\n",
      "MIN             490 non-null int64\n",
      "PTS             490 non-null int64\n",
      "FGM             490 non-null int64\n",
      "FGA             490 non-null int64\n",
      "FG%             490 non-null float64\n",
      "3PM             490 non-null int64\n",
      "3PA             490 non-null int64\n",
      "3P%             490 non-null float64\n",
      "FTM             490 non-null int64\n",
      "FTA             490 non-null int64\n",
      "FT%             490 non-null float64\n",
      "OREB            490 non-null int64\n",
      "DREB            490 non-null int64\n",
      "REB             490 non-null int64\n",
      "AST             490 non-null int64\n",
      "STL             490 non-null int64\n",
      "BLK             490 non-null int64\n",
      "TOV             490 non-null int64\n",
      "PF              490 non-null int64\n",
      "EFF             490 non-null int64\n",
      "AST/TOV         490 non-null float64\n",
      "STL/TOV         490 non-null float64\n",
      "Age             422 non-null float64\n",
      "Birth_Place     422 non-null object\n",
      "Birthdate       422 non-null object\n",
      "Collage         350 non-null object\n",
      "Experience      422 non-null object\n",
      "Height          422 non-null float64\n",
      "Pos             422 non-null object\n",
      "Team            422 non-null object\n",
      "Weight          422 non-null float64\n",
      "BMI             422 non-null float64\n",
      "dtypes: float64(9), int64(18), object(7)\n",
      "memory usage: 130.2+ KB\n"
     ]
    }
   ],
   "source": [
    "players.info()"
   ]
  },
  {
   "cell_type": "code",
   "execution_count": 6,
   "metadata": {},
   "outputs": [
    {
     "data": {
      "text/plain": [
       "(490, 34)"
      ]
     },
     "execution_count": 6,
     "metadata": {},
     "output_type": "execute_result"
    }
   ],
   "source": [
    "players.shape"
   ]
  },
  {
   "cell_type": "code",
   "execution_count": 10,
   "metadata": {},
   "outputs": [
    {
     "data": {
      "text/plain": [
       "['Name',\n",
       " 'Games Played',\n",
       " 'MIN',\n",
       " 'PTS',\n",
       " 'FGM',\n",
       " 'FGA',\n",
       " 'FG%',\n",
       " '3PM',\n",
       " '3PA',\n",
       " '3P%',\n",
       " 'FTM',\n",
       " 'FTA',\n",
       " 'FT%',\n",
       " 'OREB',\n",
       " 'DREB',\n",
       " 'REB',\n",
       " 'AST',\n",
       " 'STL',\n",
       " 'BLK',\n",
       " 'TOV',\n",
       " 'PF',\n",
       " 'EFF',\n",
       " 'AST/TOV',\n",
       " 'STL/TOV',\n",
       " 'Age',\n",
       " 'Birth_Place',\n",
       " 'Birthdate',\n",
       " 'Collage',\n",
       " 'Experience',\n",
       " 'Height',\n",
       " 'Pos',\n",
       " 'Team',\n",
       " 'Weight',\n",
       " 'BMI']"
      ]
     },
     "execution_count": 10,
     "metadata": {},
     "output_type": "execute_result"
    }
   ],
   "source": [
    "list(players.columns)"
   ]
  },
  {
   "cell_type": "markdown",
   "metadata": {},
   "source": [
    "## Introduction to Statistics \n",
    "#### Calculate the mean, mode and median of `MIN` and `PTS` fields\n"
   ]
  },
  {
   "cell_type": "code",
   "execution_count": 21,
   "metadata": {},
   "outputs": [
    {
     "name": "stdout",
     "output_type": "stream",
     "text": [
      "mean: 1214.7142857142858 median: 1193.0 mode: 0      23\n",
      "1      43\n",
      "2    2455\n",
      "dtype: int64\n"
     ]
    }
   ],
   "source": [
    "min_mean = players.MIN.mean()\n",
    "min_mode = players.MIN.mode()\n",
    "min_median = players.MIN.median()\n",
    "print(\"mean:\", min_mean, \"median:\", min_median, \"mode:\", min_mode)"
   ]
  },
  {
   "cell_type": "code",
   "execution_count": 22,
   "metadata": {},
   "outputs": [
    {
     "name": "stdout",
     "output_type": "stream",
     "text": [
      "mean: 502.10816326530613 median: 423.0 mode: 0    0\n",
      "dtype: int64\n"
     ]
    }
   ],
   "source": [
    "pts_mean = players.PTS.mean()\n",
    "pts_mode = players.PTS.mode()\n",
    "pts_median = players.PTS.median()\n",
    "print(\"mean:\", pts_mean, \"median:\", pts_median, \"mode:\", pts_mode)"
   ]
  },
  {
   "cell_type": "markdown",
   "metadata": {},
   "source": [
    "#### From the description of the data find out what information is contained in the `MIN` and `PTS` fields"
   ]
  },
  {
   "cell_type": "code",
   "execution_count": 28,
   "metadata": {},
   "outputs": [
    {
     "data": {
      "text/plain": [
       "count     490.000000\n",
       "mean     1214.714286\n",
       "std       820.570132\n",
       "min         3.000000\n",
       "25%       492.250000\n",
       "50%      1193.000000\n",
       "75%      1905.750000\n",
       "max      2981.000000\n",
       "Name: MIN, dtype: float64"
      ]
     },
     "execution_count": 28,
     "metadata": {},
     "output_type": "execute_result"
    }
   ],
   "source": [
    "#MIN Minutes Played \n",
    "players.MIN.describe()"
   ]
  },
  {
   "cell_type": "code",
   "execution_count": 29,
   "metadata": {},
   "outputs": [
    {
     "data": {
      "text/plain": [
       "count     490.000000\n",
       "mean      502.108163\n",
       "std       422.084232\n",
       "min         0.000000\n",
       "25%       145.250000\n",
       "50%       423.000000\n",
       "75%       774.000000\n",
       "max      2217.000000\n",
       "Name: PTS, dtype: float64"
      ]
     },
     "execution_count": 29,
     "metadata": {},
     "output_type": "execute_result"
    }
   ],
   "source": [
    "#PTS Points\n",
    "players.PTS.describe()"
   ]
  },
  {
   "cell_type": "markdown",
   "metadata": {},
   "source": [
    "### Compute the average number of minutes all the players spend on the field"
   ]
  },
  {
   "cell_type": "code",
   "execution_count": 35,
   "metadata": {},
   "outputs": [
    {
     "data": {
      "text/plain": [
       "1214.7142857142858"
      ]
     },
     "execution_count": 35,
     "metadata": {},
     "output_type": "execute_result"
    }
   ],
   "source": [
    "players.MIN.mean()"
   ]
  },
  {
   "cell_type": "code",
   "execution_count": null,
   "metadata": {},
   "outputs": [],
   "source": []
  },
  {
   "cell_type": "code",
   "execution_count": null,
   "metadata": {},
   "outputs": [],
   "source": []
  },
  {
   "cell_type": "markdown",
   "metadata": {},
   "source": [
    "### Now compute the average number of minutes each team spends on the field "
   ]
  },
  {
   "cell_type": "code",
   "execution_count": 38,
   "metadata": {},
   "outputs": [
    {
     "data": {
      "text/plain": [
       "Team\n",
       "ATL    1358.466667\n",
       "BOS    1450.875000\n",
       "CHA    1321.500000\n",
       "CHI    1420.071429\n",
       "CLE    1195.583333\n",
       "DAL    1414.666667\n",
       "DEN    1231.272727\n",
       "DET    1276.818182\n",
       "GSW    1432.400000\n",
       "HOU    1271.636364\n",
       "IND    1376.066667\n",
       "LAC    1258.285714\n",
       "LAL    1136.937500\n",
       "MEM    1392.142857\n",
       "MIA     970.916667\n",
       "MIL    1282.500000\n",
       "MIN     964.375000\n",
       "NJN    1165.461538\n",
       "NOH    1345.062500\n",
       "NYK    1197.312500\n",
       "OKC    1346.600000\n",
       "ORL    1317.000000\n",
       "PHI     976.400000\n",
       "PHO    1133.062500\n",
       "POR    1374.312500\n",
       "SAC    1168.307692\n",
       "SAS    1254.062500\n",
       "TOR    1264.214286\n",
       "UTA    1071.750000\n",
       "WAS    1127.125000\n",
       "Name: MIN, dtype: float64"
      ]
     },
     "execution_count": 38,
     "metadata": {},
     "output_type": "execute_result"
    }
   ],
   "source": [
    "players.groupby('Team').MIN.mean()"
   ]
  },
  {
   "cell_type": "code",
   "execution_count": null,
   "metadata": {},
   "outputs": [],
   "source": []
  },
  {
   "cell_type": "markdown",
   "metadata": {},
   "source": [
    "###  Why is it different? What is the right way to calculate the Average of averages?\n",
    "Please use classwork as a reference\n",
    "### Calculate the average number of minutes all teams spend on the field"
   ]
  },
  {
   "cell_type": "code",
   "execution_count": 59,
   "metadata": {},
   "outputs": [
    {
     "name": "stdout",
     "output_type": "stream",
     "text": [
      "ATL    20377.0\n",
      "BOS    11607.0\n",
      "CHA    18501.0\n",
      "CHI    19881.0\n",
      "CLE    14347.0\n",
      "DAL    21220.0\n",
      "DEN    13544.0\n",
      "DET    14045.0\n",
      "GSW    21486.0\n",
      "HOU    13988.0\n",
      "IND    20641.0\n",
      "LAC    17616.0\n",
      "LAL    18191.0\n",
      "MEM    19490.0\n",
      "MIA    11651.0\n",
      "MIL    15390.0\n",
      "MIN    15430.0\n",
      "NJN    15151.0\n",
      "NOH    21521.0\n",
      "NYK    19157.0\n",
      "OKC    20199.0\n",
      "ORL    19755.0\n",
      "PHI    14646.0\n",
      "PHO    18129.0\n",
      "POR    21989.0\n",
      "SAC    15188.0\n",
      "SAS    20065.0\n",
      "TOR    17699.0\n",
      "UTA    17148.0\n",
      "WAS    18034.0\n",
      "dtype: float64\n",
      "526086.0\n",
      "595210\n"
     ]
    },
    {
     "data": {
      "text/plain": [
       "1073.6448979591837"
      ]
     },
     "execution_count": 59,
     "metadata": {},
     "output_type": "execute_result"
    }
   ],
   "source": [
    "# Multiply the size of each group by the average of each group, \n",
    "print(players.Team.value_counts() * players.groupby('Team').MIN.mean())\n",
    "\n",
    "#add all this together, \n",
    "print(sum(players.Team.value_counts() * players.groupby('Team').MIN.mean()))\n",
    "\n",
    "# divide by total minutes\n",
    "print(players.MIN.sum())\n",
    "\n",
    "(sum(players.Team.value_counts() * players.groupby('Team').MIN.mean()))/(players.MIN.count())\n",
    "\n"
   ]
  },
  {
   "cell_type": "code",
   "execution_count": null,
   "metadata": {},
   "outputs": [],
   "source": []
  },
  {
   "cell_type": "code",
   "execution_count": null,
   "metadata": {},
   "outputs": [],
   "source": []
  }
 ],
 "metadata": {
  "kernelspec": {
   "display_name": "Python 3",
   "language": "python",
   "name": "python3"
  },
  "language_info": {
   "codemirror_mode": {
    "name": "ipython",
    "version": 3
   },
   "file_extension": ".py",
   "mimetype": "text/x-python",
   "name": "python",
   "nbconvert_exporter": "python",
   "pygments_lexer": "ipython3",
   "version": "3.7.3"
  }
 },
 "nbformat": 4,
 "nbformat_minor": 2
}
